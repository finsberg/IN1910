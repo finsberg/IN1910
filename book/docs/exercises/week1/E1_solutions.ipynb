{
 "cells": [
  {
   "cell_type": "markdown",
   "metadata": {},
   "source": [
    "# Week 1"
   ]
  },
  {
   "cell_type": "markdown",
   "metadata": {},
   "source": [
    "## Exercise 1 — Less than\n",
    "\n",
    "The body of the function can be done in a single line with a list comprehension"
   ]
  },
  {
   "cell_type": "code",
   "execution_count": 1,
   "metadata": {},
   "outputs": [
    {
     "name": "stdout",
     "output_type": "stream",
     "text": [
      "[1, 0, -2]\n",
      "[]\n",
      "[0, 1, 2, 3, 4]\n"
     ]
    }
   ],
   "source": [
    "def less_than(original, n):\n",
    "    return [e for e in original if e < n]\n",
    "\n",
    "print(less_than([4, 1, 3, 2, 5, 0, -2], 2))\n",
    "print(less_than([], 10))\n",
    "print(less_than(list(range(20)), 5))"
   ]
  },
  {
   "cell_type": "markdown",
   "metadata": {},
   "source": [
    "## Exercise 2 — A deck of cards\n",
    "We first create the deck"
   ]
  },
  {
   "cell_type": "code",
   "execution_count": 2,
   "metadata": {},
   "outputs": [],
   "source": [
    "deck = []\n",
    "for value in range(1, 14):\n",
    "    for suit in ('H', 'S', 'D', 'C'):\n",
    "        deck.append((value, suit))\n",
    "\n",
    "# Or by list comprehension\n",
    "deck = [(v, s) for v in range(1, 14) for s in ('H', 'S', 'D', 'C')]"
   ]
  },
  {
   "cell_type": "markdown",
   "metadata": {},
   "source": [
    "Next we shuffle it and use `.pop` to draw cards. I prefer `pop` over slicing here, because then the cards are actually removed from the deck. A slice `hand = deck[:13]` would draw 13 cards, but not actually remove them from the deck, meaning we would now have two copies of the draw cards in existence."
   ]
  },
  {
   "cell_type": "code",
   "execution_count": 3,
   "metadata": {},
   "outputs": [],
   "source": [
    "import random\n",
    "random.shuffle(deck)\n",
    "hand = [deck.pop() for _ in range(13)]"
   ]
  },
  {
   "cell_type": "markdown",
   "metadata": {},
   "source": [
    "Next we want to sort the cards we drew, once by values and once by suits. We want to perform the value sort *first*, because then we can sort by suits and preserve the value sorting.\n",
    "\n",
    "To sort by the first element of a tuple we simply use the `list.sort()` method. To sort by the second element of the tuple, we need to use the `key` kwarg of the `.sort`-metod. Where you can either use `operator.itemgetter`:\n",
    "```Python\n",
    "hand.sort(key=itemgetter(1))\n",
    "```\n",
    "or a simple lambda function:"
   ]
  },
  {
   "cell_type": "code",
   "execution_count": 4,
   "metadata": {},
   "outputs": [],
   "source": [
    "hand.sort()\n",
    "hand.sort(key=lambda e: e[1])"
   ]
  },
  {
   "cell_type": "markdown",
   "metadata": {},
   "source": [
    "Then we print to verify:"
   ]
  },
  {
   "cell_type": "code",
   "execution_count": 5,
   "metadata": {},
   "outputs": [
    {
     "name": "stdout",
     "output_type": "stream",
     "text": [
      "(1, 'C')\n",
      "(8, 'C')\n",
      "(12, 'C')\n",
      "(13, 'C')\n",
      "(12, 'D')\n",
      "(13, 'D')\n",
      "(7, 'H')\n",
      "(9, 'H')\n",
      "(13, 'H')\n",
      "(5, 'S')\n",
      "(6, 'S')\n",
      "(12, 'S')\n",
      "(13, 'S')\n"
     ]
    }
   ],
   "source": [
    "for card in hand:\n",
    "    print(card)"
   ]
  },
  {
   "cell_type": "markdown",
   "metadata": {},
   "source": [
    "## Exercise 3 — Letter Counts\n",
    "\n",
    "This exercise can be solved in many ways. First we show perhaps the most intuitive solution, we loop over all the characters, and add them to the dictionary. We use an if-test to add the first occurence of each character, and incrementing for later occurences. Note also that we loop over `text.lower()`, so we only get lowercase letters"
   ]
  },
  {
   "cell_type": "code",
   "execution_count": 6,
   "metadata": {},
   "outputs": [],
   "source": [
    "def count_chars(text):\n",
    "    count = {}\n",
    "    for char in text.lower():\n",
    "        if char not in count:\n",
    "            count[char] = 1\n",
    "        else:\n",
    "            count[char] += 1\n",
    "    return count"
   ]
  },
  {
   "cell_type": "markdown",
   "metadata": {},
   "source": [
    "We can avoid the if-test in two ways. We can either use a `collections.defaultdict`"
   ]
  },
  {
   "cell_type": "code",
   "execution_count": 7,
   "metadata": {},
   "outputs": [],
   "source": [
    "from collections import defaultdict\n",
    "\n",
    "def count_chars_defaultdict(text):\n",
    "    count = defaultdict(int)\n",
    "    for char in text.lower():\n",
    "        count[char] += 1\n",
    "    return count"
   ]
  },
  {
   "cell_type": "markdown",
   "metadata": {},
   "source": [
    "As the name implies, the defaultdict is a dictionary with a \"default\" value, so we can pretend `count[char]` exists, even from the first occurence. If it doesn't exist, it just defaults to 0.\n",
    "\n",
    "The other way to avoid the if-test is to use the `.get()` method, which can also be given a default option. `count.get(char, 0)` will return the value of the element if it is present in the dictionary, and 0 if it is not. This can be used as follows:"
   ]
  },
  {
   "cell_type": "code",
   "execution_count": 8,
   "metadata": {},
   "outputs": [],
   "source": [
    "def count_chars_get(text):\n",
    "    count = {}\n",
    "    for char in text.lower():\n",
    "        count[char] = count.get(char, 0) + 1\n",
    "    return count"
   ]
  },
  {
   "cell_type": "markdown",
   "metadata": {},
   "source": [
    "Finally, there are some built-in functionality that does this. We have the option of using the string `.count` method, or the `collections.Counter` object:"
   ]
  },
  {
   "cell_type": "code",
   "execution_count": 9,
   "metadata": {},
   "outputs": [],
   "source": [
    "example = \"Hello, World!\"\n",
    "\n",
    "assert(count_chars(example) == count_chars_defaultdict(example))"
   ]
  },
  {
   "cell_type": "code",
   "execution_count": 10,
   "metadata": {},
   "outputs": [],
   "source": [
    "from collections import Counter\n",
    "\n",
    "def count_chars_str_count(text):\n",
    "    text = text.lower()\n",
    "    return {char: text.count(char) for char in set(text)}\n",
    "\n",
    "def count_chars_counter(text):\n",
    "    return Counter(text.lower())"
   ]
  },
  {
   "cell_type": "markdown",
   "metadata": {},
   "source": [
    "Finally, to print in sorted order, we simply use `sorted` on the dictionary items when looping:"
   ]
  },
  {
   "cell_type": "code",
   "execution_count": 11,
   "metadata": {
    "scrolled": true
   },
   "outputs": [
    {
     "name": "stdout",
     "output_type": "stream",
     "text": [
      "h           1\n",
      "e           1\n",
      "l           3\n",
      "o           2\n",
      ",           1\n",
      "            1\n",
      "w           1\n",
      "r           1\n",
      "d           1\n",
      "!           1\n"
     ]
    }
   ],
   "source": [
    "example = \"Hello, world!\"\n",
    "for char, count in count_chars_counter(example).items():\n",
    "    print(f'{char:3}{count:10}')"
   ]
  },
  {
   "cell_type": "code",
   "execution_count": 13,
   "metadata": {},
   "outputs": [
    {
     "name": "stdout",
     "output_type": "stream",
     "text": [
      "            1\n",
      "!           1\n",
      ",           1\n",
      "d           1\n",
      "e           1\n",
      "h           1\n",
      "l           3\n",
      "o           2\n",
      "r           1\n",
      "w           1\n"
     ]
    }
   ],
   "source": [
    "example = \"Hello, World!\"\n",
    "for char, count in sorted(count_chars(example).items()):\n",
    "    print(f\"{char:3}{count:10}\")"
   ]
  },
  {
   "cell_type": "markdown",
   "metadata": {},
   "source": [
    "While to sort by number of occurences we have to specify that it is the second element we sort by. This can either be done by `operator.itemgetter`:\n",
    "```Python\n",
    "sorted(count.items(), key=itemgetter(1), reverse=True)\n",
    "```\n",
    "or using a simple lambda function\n",
    "```Python\n",
    "sorted(count.items(), key=lambda elem: elem[1], reverse=True)\n",
    "```\n",
    "In either case, we need to also use the `reverse` keyword, as sorting normally sorts in increasing order."
   ]
  },
  {
   "cell_type": "markdown",
   "metadata": {},
   "source": [
    "## Exercise 4 — Factorizing a number\n",
    "\n",
    "First we handle the special case of 1, as this is a bit tricky. Next we need to loop from 2 to $n$ to look for divisors. Every time we find a divisor we divide it out and add it to our list of divisors. "
   ]
  },
  {
   "cell_type": "code",
   "execution_count": 13,
   "metadata": {},
   "outputs": [
    {
     "name": "stdout",
     "output_type": "stream",
     "text": [
      "[2, 3, 3]\n",
      "[23]\n",
      "[5, 82483]\n"
     ]
    }
   ],
   "source": [
    "def factorize(n):\n",
    "    if n == 1:\n",
    "        return [1]\n",
    "    \n",
    "    divisors = []\n",
    "    while n != 1:\n",
    "        for d in range(2, n+1):\n",
    "            if n % d == 0:\n",
    "                divisors.append(d)\n",
    "                n = n//d\n",
    "                break #added this H19. More correct?\n",
    "    return divisors\n",
    "\n",
    "print(factorize(18))\n",
    "print(factorize(23))\n",
    "print(factorize(412415))"
   ]
  },
  {
   "cell_type": "markdown",
   "metadata": {},
   "source": [
    "## Exercise 5 — Name Scores\n",
    "\n",
    "Here we first need to read all the names from the file. The best way to do this is to use a *context guard*, meaning we use the `with` keyword. Then we do not need to remember to close the file manually. How best to read the text and convert it to a list of names depends on the original input. In this case we first remove all `\"` characters, and then split in on the commas."
   ]
  },
  {
   "cell_type": "code",
   "execution_count": 14,
   "metadata": {},
   "outputs": [
    {
     "name": "stdout",
     "output_type": "stream",
     "text": [
      "['MARY', 'PATRICIA', 'LINDA', 'BARBARA', 'ELIZABETH']\n"
     ]
    }
   ],
   "source": [
    "with open('names.txt', 'r') as infile:\n",
    "        text = infile.read()\n",
    "        text = text.replace('\"', '')\n",
    "        names = text.split(',')\n",
    "\n",
    "# Check if reading went correctly\n",
    "print(names[:5])"
   ]
  },
  {
   "cell_type": "markdown",
   "metadata": {},
   "source": [
    "Next we need to sort the names in alphabetical order, this can be done using the `.sort()` list method"
   ]
  },
  {
   "cell_type": "code",
   "execution_count": 15,
   "metadata": {},
   "outputs": [
    {
     "name": "stdout",
     "output_type": "stream",
     "text": [
      "['AARON', 'ABBEY', 'ABBIE', 'ABBY', 'ABDUL']\n"
     ]
    }
   ],
   "source": [
    "names.sort()\n",
    "print(names[:5])"
   ]
  },
  {
   "cell_type": "markdown",
   "metadata": {},
   "source": [
    "Now we need to find the \"alphabetical value\" of each name. To do this we create a function that converts a letter into its location in the alphabet. We can import the alphabet as a string from the `string` package. To find the position of a character in a string (or an element in a list), we can use the `.find` method, which returns the index of the first occurence. Since Python starts counting at 0, but we want A to correspond to 1, we add 1 to the result."
   ]
  },
  {
   "cell_type": "code",
   "execution_count": 16,
   "metadata": {},
   "outputs": [],
   "source": [
    "import string\n",
    "\n",
    "ALPHABET = string.ascii_uppercase\n",
    "\n",
    "def letter_position(letter):\n",
    "    return ALPHABET.find(letter) + 1"
   ]
  },
  {
   "cell_type": "markdown",
   "metadata": {},
   "source": [
    "Next we define the function that converts each letter in a name independently, then sum the resulting integers. We test the function with the example given, namely that \"COLIN\" should have a value of 53."
   ]
  },
  {
   "cell_type": "code",
   "execution_count": 17,
   "metadata": {},
   "outputs": [
    {
     "name": "stdout",
     "output_type": "stream",
     "text": [
      "53\n"
     ]
    }
   ],
   "source": [
    "def alphabetical_value(name):\n",
    "    return sum([letter_position(letter) for letter in name])\n",
    "\n",
    "print(alphabetical_value(\"COLIN\"))"
   ]
  },
  {
   "cell_type": "markdown",
   "metadata": {},
   "source": [
    "Now we want to go through the whole list of names, find the value of each one and multiply it by its position in the list of names"
   ]
  },
  {
   "cell_type": "code",
   "execution_count": 18,
   "metadata": {
    "scrolled": true
   },
   "outputs": [
    {
     "name": "stdout",
     "output_type": "stream",
     "text": [
      "871198282\n"
     ]
    }
   ],
   "source": [
    "total = 0\n",
    "for i, name in enumerate(names):\n",
    "    total += alphabetical_value(name) * (i+1)\n",
    "    \n",
    "print(total)"
   ]
  },
  {
   "cell_type": "markdown",
   "metadata": {},
   "source": [
    "Which is our final answer. Writing the whole thing out as a single program can be done as follows:"
   ]
  },
  {
   "cell_type": "code",
   "execution_count": 19,
   "metadata": {},
   "outputs": [
    {
     "name": "stdout",
     "output_type": "stream",
     "text": [
      "871198282\n"
     ]
    }
   ],
   "source": [
    "import string\n",
    "\n",
    "\n",
    "def letter_position(letter):\n",
    "    return string.ascii_uppercase.find(letter) + 1\n",
    "\n",
    "\n",
    "def alphabetical_value(name):\n",
    "    return sum([letter_position(letter) for letter in name])\n",
    "\n",
    "\n",
    "def total_value(names):\n",
    "    total = 0\n",
    "    for i, name in enumerate(names):\n",
    "        total += alphabetical_value(name) * (i+1)\n",
    "    return total\n",
    "\n",
    "\n",
    "def read_names(filepath):\n",
    "    with open(filepath, 'r') as infile:\n",
    "        text = infile.read()\n",
    "        text = text.replace('\"', '')\n",
    "        names = text.split(',')\n",
    "    return names\n",
    "\n",
    "\n",
    "if __name__ == \"__main__\":\n",
    "    names = read_names(\"names.txt\")\n",
    "    names.sort()\n",
    "    print(total_value(names))"
   ]
  }
 ],
 "metadata": {
  "interpreter": {
   "hash": "50591344d2bc898e72e7aeb6ce0ba3ba304e0ade74115ad10a768cd73570c8b2"
  },
  "kernelspec": {
   "display_name": "Python 3.9.2 64-bit ('in1910-book': conda)",
   "name": "python3"
  },
  "language_info": {
   "name": "python",
   "version": ""
  }
 },
 "nbformat": 4,
 "nbformat_minor": 2
}
