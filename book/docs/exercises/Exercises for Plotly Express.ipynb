{
 "cells": [
  {
   "cell_type": "markdown",
   "id": "f39ecfba",
   "metadata": {},
   "source": [
    "# Exercises for Plotly Express\n",
    "\n",
    "These exercises revolve around using Plotly Express. We have not included this package in the list of packages needed in IN1910, so if you want to do these exercises you might need to install these packages yourself. You can do this through `pip`, try the following command in Jupyter\n",
    "\n",
    "* `!pip install plotly`"
   ]
  },
  {
   "cell_type": "markdown",
   "id": "c782c532",
   "metadata": {},
   "source": [
    "If you are working in Jupyter Notebook (locally) you should also run the following command to make sure your Jupyter is up to date and can show the graphs correctly.\n",
    "\n",
    "* `!pip install \"notebook>=5.3\" \"ipywidgets>=7.5\"`"
   ]
  },
  {
   "cell_type": "markdown",
   "id": "c324b593",
   "metadata": {},
   "source": [
    "If these commands do not work, and you have installed python through Anaconda, you can instead try to install through `conda`. You can read more about that here:\n",
    "* https://plotly.com/python/getting-started/\n",
    "* https://docs.anaconda.com/anaconda/user-guide/tasks/install-packages/\n",
    "\n",
    "If you cannot get this to work, please ask for help on Mattermost."
   ]
  },
  {
   "cell_type": "markdown",
   "id": "50e7426f",
   "metadata": {},
   "source": [
    "## Irises\n",
    "\n",
    "These exercises revolves around a famous dataset compiled by biologist Ronald Fischer, who measured the size of 150 different Iris flowers. The dataset has become a popular example data set for data science and machine learning. In his dataset, Fisher measured 3 different types of Iris flowers, measuring 50 samples of each type.\n",
    "\n",
    "The data set has its own Wikipedia-page you can read if you want more background information. Though it won't be necessary to solve the exercises.\n",
    "* https://en.wikipedia.org/wiki/Iris_flower_data_set\n",
    "\n",
    "<img src=https://upload.wikimedia.org/wikipedia/commons/thumb/4/41/Iris_versicolor_3.jpg/1280px-Iris_versicolor_3.jpg width=440px>\n",
    "<center>Figure 1: An Iris flower of <i>Versicolor</i> variant. Source: <a href=https://en.wikipedia.org/wiki/Iris_flower_data_set#/media/File:Iris_versicolor_3.jpg>Wikimedia Commons (CC BY-SA 3.0).</center>"
   ]
  },
  {
   "cell_type": "markdown",
   "id": "5369b675",
   "metadata": {},
   "source": [
    "### Exercise a) Reading in the data\n",
    "\n",
    "Import `plotly.express` as `px` and read in the Iris dataset using the command `px.data.iris()`. Then use the methods `info`, `describe` and `head` methods to explore the dataset briefly. What information do we have available?\n"
   ]
  },
  {
   "cell_type": "markdown",
   "id": "1a305970",
   "metadata": {},
   "source": [
    "### Exercise b) Finding average data\n",
    "\n",
    "Use the `groupby` and `mean` functions to find the average data for each species of Iris. How many species are there? Which one seems to be the largest?\n",
    "\n",
    "\n"
   ]
  },
  {
   "cell_type": "markdown",
   "id": "7b970ca4",
   "metadata": {},
   "source": [
    "### Exercise c) Plotting data\n",
    "\n",
    "Using Plotly Express, make a scatter plot showing the \"petal length\" vs the \"petal width\". Are the three species easy to differentiate in the plot, or do they overlap? In other words: Can you decide which species a given flower is based on the petal measurements alone?\n",
    "\n",
    "If you want to, you can also add a regression line `trendline='ols'` if you want to, but note that this requires you have the `statsmodels` package installed.\n"
   ]
  },
  {
   "cell_type": "markdown",
   "id": "ff9efdec",
   "metadata": {},
   "source": [
    "### Exercise d) Adding colors\n",
    "\n",
    "If you have not already done so, add colors to your scatter plot to visually differentiate your three species. Explain what happens in your plot and what these results mean.\n",
    "\n",
    "If you added a trendline, what happens to the trendline when you group data by species?"
   ]
  },
  {
   "cell_type": "markdown",
   "id": "a34a619a",
   "metadata": {},
   "source": [
    "### Exercise e) Sepal measurements\n",
    "\n",
    "Repeat exercises c and d, but this time plot the sepal length and width instead of the petal length and width. Explain the main differences in the petal plot and the sepal plot."
   ]
  },
  {
   "cell_type": "markdown",
   "id": "47e5429c",
   "metadata": {},
   "source": [
    "### Exercise f) Comparing petal and sepal size\n",
    "\n",
    "We now want to compare the petal size with the sepal size, but it gets a bit tricky plotting two dimensions against two dimensions. Therefore we first add two new columns to our dataset.\n",
    "\n",
    "Add a `petal_size` and a `sepal_size` column. These should be computed by multiplying the length and width of the petal and sepal respectively (the \"size\" is then effectively a sort of area measurement)."
   ]
  },
  {
   "cell_type": "markdown",
   "id": "d9875280",
   "metadata": {},
   "source": [
    "### Exercise g) Plotting sepal vs petal\n",
    "\n",
    "Make a scatter plot of the `sepal_size` vs the `petal_size`. Explain how the three species compare in this figure."
   ]
  },
  {
   "cell_type": "markdown",
   "id": "bde7b20b",
   "metadata": {},
   "source": [
    "### Exercise h) Boxplot and violinplot\n",
    "\n",
    "We now want to make a box plot. If you have never heard of such a plot, it is a common way of displaying several statistical distributions next to each other.\n",
    "\n",
    "Run the code given below, look at the result and explain what it is telling us. (You might need to change the name of the dataframe in the code). Try changing out what data is shown in the box plots.\n",
    "\n",
    "```python\n",
    "fig = px.box(iris, x='species', y='petal_length', color='species')\n",
    "fig.show()\n",
    "```"
   ]
  },
  {
   "cell_type": "markdown",
   "id": "f8a04b64",
   "metadata": {},
   "source": [
    "### Exercise i) Violin plot\n",
    "\n",
    "A slight variation of a box plot is the violin plot. Change the `px.box` command with `px.violin`, keeping everything else similar. Explain the figure you get."
   ]
  },
  {
   "cell_type": "markdown",
   "id": "a0d2ad2d",
   "metadata": {},
   "source": [
    "### Exercise j) Marginal plots\n",
    "\n",
    "Now make a new scatter plot of `petal_size` vs `sepal_size` (you can copy your code from exercise g). But now add the keyword arguments\n",
    "\n",
    "```python\n",
    "marginal_x='box'\n",
    "marginal_y='box'\n",
    "```\n",
    "\n",
    "What does this do to the figure?"
   ]
  },
  {
   "cell_type": "markdown",
   "id": "b2628d86",
   "metadata": {},
   "source": [
    "### Exercise k) Histogram\n",
    "\n",
    "Finally, we want to make a histogram. Make a figure using `px.histogram`. Use the official documentation or the `help` command to check what parameters you can add and what they do. Play around with it. You should especially check out the arguments `nbins` and `barmode`, what do these do?"
   ]
  }
 ],
 "metadata": {
  "kernelspec": {
   "display_name": "Python 3",
   "language": "python",
   "name": "python3"
  },
  "language_info": {
   "codemirror_mode": {
    "name": "ipython",
    "version": 3
   },
   "file_extension": ".py",
   "mimetype": "text/x-python",
   "name": "python",
   "nbconvert_exporter": "python",
   "pygments_lexer": "ipython3",
   "version": "3.6.9"
  }
 },
 "nbformat": 4,
 "nbformat_minor": 5
}
