{
 "cells": [
  {
   "cell_type": "markdown",
   "source": [
    "# Week 2\n",
    "## Writing reliable and understandable code\n",
    "\n",
    "The goal of this weeks exercises is to give you some exercise with testing and documentation."
   ],
   "metadata": {}
  },
  {
   "cell_type": "markdown",
   "source": [
    "### Exercise 1) Checking primes\n",
    "\n",
    "Write a function `is_prime(n)` that takes in a positive integer and returns a boolean saying if the input is a prime or not. The function should raise an error if the input is invalid.\n",
    "\n",
    "Add a descriptive docstring to your function. Now write a few unit tests for your function using `pytest`. Your tests should test a few different numbers, especially 1, 2, and 3. Also write a test to verify that your function raises exceptions as expected (use `pytest.raises`, read more [here](https://docs.pytest.org/en/latest/assert.html) under 'Assertions about expected exceptions').\n",
    "\n",
    "\n",
    "\n"
   ],
   "metadata": {}
  },
  {
   "cell_type": "markdown",
   "source": [
    "### Exercise 2) Writing Bubble Sort\n",
    "\n",
    "You will now write a function implementing the \"bubble sort\" algorithm, which is one of the simplest sorting algorithms. Assuming we have a list with elements we can compare using a \"less than\" operator. We want to sort the list in increasing order, so for example:\n",
    "* `[4, 2, 3, 7, 1, 5] -> [1, 2, 3, 4, 5, 7]`\n",
    "\n",
    "The steps of bubble sort are as follows:\n",
    "\n",
    "1. Start with the first element in the list, compare it with the second.\n",
    "    * If they are in the wrong order, exchange them.\n",
    "2. Now compare the second and third element\n",
    "    * If they are in the wrong order, exchange them.\n",
    "3. Proceed in the same manner, comparing the third and fourth, then the fourth and fifth, etc\n",
    "\n",
    "At this point, after comparing the second to last and the last elements and flipping if necessary, the largest element of the list will be at the end of the list (Why is this?).\n",
    "\n",
    "Now, start again from the beginning, but stop once you reach the second-last element in the list. Then start again from the beginning, but stop once you reach the third-last element and so on, untill the whole list is sorted.\n",
    "\n",
    "If you need a better description, you can read more about bubble sort on [wikipedia](https://en.wikipedia.org/wiki/Bubble_sort) where they also have pseudocode examples. \n",
    "\n",
    "**Write a `bubble_sort` function that takes in a tuple or list and returns a new list with the same data in sorted order. The function should *not* change the original list. Include a docstring with your function**"
   ],
   "metadata": {}
  },
  {
   "cell_type": "markdown",
   "source": [
    "### Exercise 3) Testing Bubble Sort\n",
    "\n",
    "You should now write a few unit tests of your bubble sort function. Include at least these tests:\n",
    "- An empty list should return an empty list.\n",
    "- A list with just one element should return a list with just that element.\n",
    "- Try sorting a few example inputs and check the output is sorted.\n",
    "- Verify that the input list is unchanged.\n",
    "\n",
    "If any tests fail, go back and improve your bubble sort."
   ],
   "metadata": {}
  },
  {
   "cell_type": "markdown",
   "source": [
    "### Exercise 4) Testing and correcting a median function\n",
    "\n",
    "The following function finds the median of a given dataset:"
   ],
   "metadata": {}
  },
  {
   "cell_type": "code",
   "execution_count": 1,
   "source": [
    "def median(data):\n",
    "    \"\"\"Returns the median of a dataset.\"\"\"\n",
    "    data.sort()\n",
    "    return data[len(data)//2]\n",
    "\n",
    "print(median([11, 3, 1, 5, 3]))"
   ],
   "outputs": [
    {
     "output_type": "stream",
     "name": "stdout",
     "text": [
      "3\n"
     ]
    }
   ],
   "metadata": {
    "collapsed": true
   }
  },
  {
   "cell_type": "markdown",
   "source": [
    "The function returns the correct answer for the example given, but is the function any good? To find out, implement the following tests and run them. If any of the tests fails, improve the function so that it passes:\n",
    "- A test checking the output for a one-element list\n",
    "- A test checking the output for a two-element list\n",
    "- A test ensuring the original data is unchanged\n",
    "- A test checking that an error is raised if the input is an empty list/tuple."
   ],
   "metadata": {}
  }
 ],
 "metadata": {
  "interpreter": {
   "hash": "50591344d2bc898e72e7aeb6ce0ba3ba304e0ade74115ad10a768cd73570c8b2"
  },
  "kernelspec": {
   "display_name": "Python 3.9.2 64-bit ('in1910-book': conda)",
   "name": "python3"
  },
  "language_info": {
   "name": "python",
   "version": ""
  }
 },
 "nbformat": 4,
 "nbformat_minor": 2
}
