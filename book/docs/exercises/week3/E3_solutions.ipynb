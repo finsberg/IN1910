{
 "cells": [
  {
   "cell_type": "markdown",
   "source": [
    "# Week 2\n",
    "## Exercise 1 - Checking primes"
   ],
   "metadata": {}
  },
  {
   "cell_type": "code",
   "execution_count": 1,
   "source": [
    "def is_prime(n):\n",
    "    print(type(n))\n",
    "    if not isinstance(n, int):\n",
    "        raise ValueError(f'Expected int: {type(n)}')\n",
    "    elif n < 0:\n",
    "        raise ValueError(f'Expected positive int: {n}')\n",
    "    elif n in [1, 2]:\n",
    "        return True\n",
    "    for i in range(2, n):\n",
    "        if n%i == 0:\n",
    "            return False\n",
    "\n",
    "    return True"
   ],
   "outputs": [],
   "metadata": {}
  },
  {
   "cell_type": "code",
   "execution_count": 2,
   "source": [
    "import pytest\n",
    "from prime import is_prime\n",
    "\n",
    "def test_is_prime_with_neg_int_raise_value_error():\n",
    "    with pytest.raises(ValueError):\n",
    "        is_prime(-1)\n",
    "\n",
    "def test_is_prime_with_non_int_raise_value_error():\n",
    "    for value in ('str', 1.1, {}, []):\n",
    "        with pytest.raises(ValueError):\n",
    "            is_prime(value)\n",
    "\n",
    "def test_is_prime_primes():\n",
    "    for prime in (1, 2, 3, 5, 7, 11, 13):\n",
    "        assert is_prime(prime)\n",
    "\n",
    "def test_is_prime_non_primes():\n",
    "    for non_prime in (4, 6, 9, 12, 15):\n",
    "        assert not is_prime(non_prime)"
   ],
   "outputs": [],
   "metadata": {}
  },
  {
   "cell_type": "markdown",
   "source": [
    "```\n",
    "» pytest -v test_prime.py\n",
    "collected 4 items\n",
    "\n",
    "test_prime.py::test_is_prime_with_neg_int_raise_value_error PASSED                                               [ 25%]\n",
    "test_prime.py::test_is_prime_with_non_int_raise_value_error PASSED                                               [ 50%]\n",
    "test_prime.py::test_is_prime_primes PASSED                                                                       [ 75%]\n",
    "test_prime.py::test_is_prime_non_primes PASSED                                                                   [100%]\n",
    "\n",
    "============================================== 4 passed in 0.09 seconds ===============================================\n",
    "```"
   ],
   "metadata": {}
  },
  {
   "cell_type": "markdown",
   "source": [
    "## Exercise 2 - Writing Bubble Sort"
   ],
   "metadata": {}
  },
  {
   "cell_type": "code",
   "execution_count": 9,
   "source": [
    "def bubble_sort(lst):\n",
    "    if not isinstance(lst, list):\n",
    "        raise ValueError(f'Expected list: {type(lst)}')\n",
    "    elif len(lst) < 2:\n",
    "        return lst.copy()\n",
    "\n",
    "    copy = lst.copy()\n",
    "\n",
    "    for i in range(len(lst), 1, -1):\n",
    "        for j in range(i-1):\n",
    "            if copy[j+1] > copy[j]:\n",
    "                copy[j], copy[j+1] = copy[j+1], copy[j]\n",
    "\n",
    "    return copy"
   ],
   "outputs": [],
   "metadata": {
    "collapsed": true
   }
  },
  {
   "cell_type": "markdown",
   "source": [
    "## Exercise 3 - Testing Bubble Sort"
   ],
   "metadata": {}
  },
  {
   "cell_type": "code",
   "execution_count": 10,
   "source": [
    "import pytest\n",
    "from bubble_sort import bubble_sort\n",
    "\n",
    "def test_bubble_sort_correct():\n",
    "    unordered = [5, 3, 2, 8, 2, 7, 9, 2]\n",
    "    expected = sorted(unordered, reverse=True)\n",
    "\n",
    "    assert expected == bubble_sort(unordered)\n",
    "\n",
    "def test_bubble_sort_not_list_raise_value_error():\n",
    "    for value in ('str', 1.1, {}, 1, True):\n",
    "        with pytest.raises(ValueError):\n",
    "            bubble_sort(value)\n",
    "\n",
    "def test_bubble_sort_empty_list_return_empty_list():\n",
    "    assert [] == bubble_sort([])\n",
    "\n",
    "def test_bubble_sort_one_element_return_same_element_list():\n",
    "    assert [1] == bubble_sort([1])\n",
    "\n",
    "def test_bubble_sort_original_list_unaltered():\n",
    "    original = [1, 4, 2, 5, 6]\n",
    "    expected = original.copy()\n",
    "    ordered = bubble_sort(original)\n",
    "    assert original == expected"
   ],
   "outputs": [],
   "metadata": {
    "collapsed": true
   }
  },
  {
   "cell_type": "markdown",
   "source": [
    "```\n",
    "» pytest -v test_bubble_sort.py\n",
    "collected 5 items\n",
    "\n",
    "test_bubble_sort.py::test_bubble_sort_correct PASSED                                                             [ 20%]\n",
    "test_bubble_sort.py::test_bubble_sort_not_list_raise_value_error PASSED                                          [ 40%]\n",
    "test_bubble_sort.py::test_bubble_sort_empty_list_return_empty_list PASSED                                        [ 60%]\n",
    "test_bubble_sort.py::test_bubble_sort_one_element_return_same_element_list PASSED                                [ 80%]\n",
    "test_bubble_sort.py::test_bubble_sort_original_list_unaltered PASSED                                             [100%]\n",
    "\n",
    "============================================== 5 passed in 0.14 seconds ===============================================\n",
    "```"
   ],
   "metadata": {}
  },
  {
   "cell_type": "markdown",
   "source": [
    "### Exercise 4 - Testing a median function"
   ],
   "metadata": {}
  },
  {
   "cell_type": "code",
   "execution_count": 11,
   "source": [
    "def median(data):\n",
    "    \"\"\"Returns the median of a dataset.\"\"\"\n",
    "    data.sort()\n",
    "    return data[len(data)//2]\n",
    "\n",
    "print(median([11, 3, 1, 5, 3]))"
   ],
   "outputs": [
    {
     "output_type": "stream",
     "name": "stdout",
     "text": [
      "3\n"
     ]
    }
   ],
   "metadata": {}
  },
  {
   "cell_type": "code",
   "execution_count": 15,
   "source": [
    "def test_median_one_element_list():\n",
    "    assert 1 == median([1])\n",
    "\n",
    "def test_median_two_element_list():\n",
    "    lst = [2, 3]\n",
    "    expected = 2.5\n",
    "    actual = median(lst)\n",
    "    assert expected == actual"
   ],
   "outputs": [],
   "metadata": {
    "collapsed": true
   }
  },
  {
   "cell_type": "markdown",
   "source": [
    "```\n",
    "» pytest -v test_median.py\n",
    "collected 2 items\n",
    "\n",
    "test_median.py::test_median_one_element_list PASSED                                                              [ 50%]\n",
    "test_median.py::test_median_two_element_list FAILED                                                              [100%]\n",
    "\n",
    "====================================================== FAILURES =======================================================\n",
    "____________________________________________ test_median_two_element_list _____________________________________________\n",
    "\n",
    "    def test_median_two_element_list():\n",
    "        lst = [2, 3]\n",
    "        expected = 2.5\n",
    "        actual = median(lst)\n",
    ">       assert expected == actual\n",
    "E       assert 2.5 == 3\n",
    "E         -2.5\n",
    "E         +3\n",
    "\n",
    "test_median.py:11: AssertionError\n",
    "========================================= 1 failed, 1 passed in 0.35 seconds ==========================================\n",
    "```"
   ],
   "metadata": {}
  },
  {
   "cell_type": "code",
   "execution_count": 14,
   "source": [
    "def median(data):\n",
    "    \"\"\"Returns the median of a dataset.\"\"\"\n",
    "    data.sort()\n",
    "    if len(data) % 2 != 0:\n",
    "        return data[len(data)//2]\n",
    "    else:\n",
    "        middle_elements = data[len(data)//2 - 1], data[len(data)//2]\n",
    "        return sum(middle_elements)/2"
   ],
   "outputs": [],
   "metadata": {
    "collapsed": true
   }
  },
  {
   "cell_type": "markdown",
   "source": [
    "```\n",
    "» pytest -v test_median.py\n",
    "collected 2 items\n",
    "\n",
    "test_median.py::test_median_one_element_list PASSED                                                              [ 50%]\n",
    "test_median.py::test_median_two_element_list PASSED                                                              [100%]\n",
    "\n",
    "============================================== 2 passed in 0.51 seconds ===============================================\n",
    "```"
   ],
   "metadata": {}
  },
  {
   "cell_type": "code",
   "execution_count": 16,
   "source": [
    "def test_median_original_list_unaltered():\n",
    "    lst = [2, 4, 6]\n",
    "    expected = lst.copy()\n",
    "    med = median(lst)\n",
    "    assert lst == expected"
   ],
   "outputs": [],
   "metadata": {
    "collapsed": true
   }
  },
  {
   "cell_type": "markdown",
   "source": [
    "```\n",
    "» pytest -v test_median.py\n",
    "collected 3 items\n",
    "\n",
    "test_median.py::test_median_one_element_list PASSED                                                              [ 33%]\n",
    "test_median.py::test_median_two_element_list PASSED                                                              [ 66%]\n",
    "test_median.py::test_median_original_list_unaltered PASSED                                                       [100%]\n",
    "\n",
    "============================================== 3 passed in 0.16 seconds ===============================================\n",
    "```"
   ],
   "metadata": {}
  },
  {
   "cell_type": "code",
   "execution_count": 17,
   "source": [
    "def test_median_empty_list_raise_value_error():\n",
    "    with pytest.raises(ValueError):\n",
    "        median([])\n",
    "\n",
    "def test_median_empty_tuple_raise_value_error():\n",
    "    with pytest.raises(ValueError):\n",
    "        median(())"
   ],
   "outputs": [],
   "metadata": {
    "collapsed": true
   }
  },
  {
   "cell_type": "markdown",
   "source": [
    "```\n",
    "» pytest -v test_median.py\n",
    "collected 5 items\n",
    "\n",
    "test_median.py::test_median_one_element_list PASSED                                                              [ 20%]\n",
    "test_median.py::test_median_two_element_list PASSED                                                              [ 40%]\n",
    "test_median.py::test_median_original_list_unaltered PASSED                                                       [ 60%]\n",
    "test_median.py::test_median_empty_list_raise_value_error FAILED                                                  [ 80%]\n",
    "test_median.py::test_median_empty_tuple_raise_value_error FAILED                                                 [100%]\n",
    "\n",
    "====================================================== FAILURES =======================================================\n",
    "______________________________________ test_median_empty_list_raise_value_error _______________________________________\n",
    "\n",
    "    def test_median_empty_list_raise_value_error():\n",
    "        with pytest.raises(ValueError):\n",
    ">           median([])\n",
    "\n",
    "test_median.py:22:\n",
    "_ _ _ _ _ _ _ _ _ _ _ _ _ _ _ _ _ _ _ _ _ _ _ _ _ _ _ _ _ _ _ _ _ _ _ _ _ _ _ _ _ _ _ _ _ _ _ _ _ _ _ _ _ _ _ _ _ _ _ _\n",
    "\n",
    "data = []\n",
    "\n",
    "    def median(data):\n",
    "        \"\"\"Returns the median of a dataset.\"\"\"\n",
    "        data.sort()\n",
    "        if len(data) % 2 != 0:\n",
    "            return data[len(data)//2]\n",
    "        else:\n",
    ">           middle_elements = data[len(data)//2 - 1], data[len(data)//2]\n",
    "E           IndexError: list index out of range\n",
    "\n",
    "median.py:24: IndexError\n",
    "______________________________________ test_median_empty_tuple_raise_value_error ______________________________________\n",
    "\n",
    "    def test_median_empty_tuple_raise_value_error():\n",
    "        with pytest.raises(ValueError):\n",
    ">           median(())\n",
    "\n",
    "test_median.py:26:\n",
    "_ _ _ _ _ _ _ _ _ _ _ _ _ _ _ _ _ _ _ _ _ _ _ _ _ _ _ _ _ _ _ _ _ _ _ _ _ _ _ _ _ _ _ _ _ _ _ _ _ _ _ _ _ _ _ _ _ _ _ _\n",
    "\n",
    "data = ()\n",
    "\n",
    "    def median(data):\n",
    "        \"\"\"Returns the median of a dataset.\"\"\"\n",
    ">       data.sort()\n",
    "E       AttributeError: 'tuple' object has no attribute 'sort'\n",
    "\n",
    "median.py:20: AttributeError\n",
    "========================================= 2 failed, 3 passed in 0.24 seconds ==========================================\n",
    "```"
   ],
   "metadata": {}
  },
  {
   "cell_type": "code",
   "execution_count": 18,
   "source": [
    "def median(data):\n",
    "    \"\"\"Returns the median of a dataset.\"\"\"\n",
    "    if len(data) == 0:\n",
    "        raise ValueError('data cannot be empty')\n",
    "    data.sort()\n",
    "    if len(data) % 2 != 0:\n",
    "        return data[len(data)//2]\n",
    "    else:\n",
    "        middle_elements = data[len(data)//2 - 1], data[len(data)//2]\n",
    "        return sum(middle_elements)/2"
   ],
   "outputs": [],
   "metadata": {
    "collapsed": true
   }
  },
  {
   "cell_type": "markdown",
   "source": [
    "```\n",
    "» pytest -v test_median.py\n",
    "collected 5 items\n",
    "\n",
    "test_median.py::test_median_one_element_list PASSED                                                              [ 20%]\n",
    "test_median.py::test_median_two_element_list PASSED                                                              [ 40%]\n",
    "test_median.py::test_median_original_list_unaltered PASSED                                                       [ 60%]\n",
    "test_median.py::test_median_empty_list_raise_value_error PASSED                                                  [ 80%]\n",
    "test_median.py::test_median_empty_tuple_raise_value_error PASSED                                                 [100%]\n",
    "\n",
    "============================================== 5 passed in 0.08 seconds ===============================================\n",
    "```"
   ],
   "metadata": {}
  }
 ],
 "metadata": {
  "interpreter": {
   "hash": "50591344d2bc898e72e7aeb6ce0ba3ba304e0ade74115ad10a768cd73570c8b2"
  },
  "kernelspec": {
   "display_name": "Python 3.9.2 64-bit ('in1910-book': conda)",
   "name": "python3"
  },
  "language_info": {
   "name": "python",
   "version": ""
  }
 },
 "nbformat": 4,
 "nbformat_minor": 2
}
